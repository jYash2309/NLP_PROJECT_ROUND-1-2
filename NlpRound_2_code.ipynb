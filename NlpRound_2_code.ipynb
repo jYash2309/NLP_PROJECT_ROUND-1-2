{
  "nbformat": 4,
  "nbformat_minor": 0,
  "metadata": {
    "colab": {
      "provenance": []
    },
    "kernelspec": {
      "name": "python3",
      "display_name": "Python 3"
    },
    "language_info": {
      "name": "python"
    }
  },
  "cells": [
    {
      "cell_type": "code",
      "execution_count": 7,
      "metadata": {
        "colab": {
          "base_uri": "https://localhost:8080/"
        },
        "id": "0nJBf7D9V8j-",
        "outputId": "9f8c1b74-98bf-45f9-feb3-25a60aa5038e"
      },
      "outputs": [
        {
          "output_type": "stream",
          "name": "stderr",
          "text": [
            "[nltk_data] Downloading package omw-1.4 to /root/nltk_data...\n",
            "[nltk_data] Downloading package wordnet to /root/nltk_data...\n",
            "[nltk_data]   Package wordnet is already up-to-date!\n",
            "[nltk_data] Downloading package stopwords to /root/nltk_data...\n",
            "[nltk_data]   Package stopwords is already up-to-date!\n",
            "[nltk_data] Downloading package punkt to /root/nltk_data...\n",
            "[nltk_data]   Package punkt is already up-to-date!\n",
            "[nltk_data] Downloading package averaged_perceptron_tagger to\n",
            "[nltk_data]     /root/nltk_data...\n",
            "[nltk_data]   Package averaged_perceptron_tagger is already up-to-\n",
            "[nltk_data]       date!\n"
          ]
        },
        {
          "output_type": "execute_result",
          "data": {
            "text/plain": [
              "True"
            ]
          },
          "metadata": {},
          "execution_count": 7
        }
      ],
      "source": [
        "import urllib.request \n",
        "from nltk.stem import WordNetLemmatizer\n",
        "from nltk.stem import PorterStemmer\n",
        "from nltk.tokenize import word_tokenize\n",
        "from nltk.corpus import stopwords\n",
        "import nltk\n",
        "nltk.download('omw-1.4')\n",
        "import re\n",
        "import inflect\n",
        "import pandas as pd\n",
        "import matplotlib.pyplot as plt\n",
        "from wordcloud import WordCloud, STOPWORDS\n",
        "from collections import Counter\n",
        "\n",
        "nltk.download('wordnet')\n",
        "nltk.download('stopwords')\n",
        "nltk.download('punkt')\n",
        "nltk.download('averaged_perceptron_tagger')"
      ]
    },
    {
      "cell_type": "code",
      "source": [
        "def open_url(url):\n",
        "    file = urllib.request.urlopen(url)\n",
        "    decoded_line = ''\n",
        "    for line in file:\n",
        "\t    decoded_line += line.decode(\"utf-8\")\n",
        "    return decoded_line\n",
        "def discard(text):\n",
        "    # removing starting and ending portion that is unwanted\n",
        "    start = text.find('*** START OF THE PROJECT')\n",
        "    end = text.find('*** END OF THE PROJECT')\n",
        "    text = text[start:end]\n",
        "    # removing links from text\n",
        "    re.sub(r'http\\S+', '', text)\n",
        "    return text\n",
        "def lower_case(text: str):\n",
        "    return text.lower()\n",
        "def lemmanization(text):\n",
        "    arr = text.split()\n",
        "    array = []\n",
        "    lemmatizer = WordNetLemmatizer()\n",
        "    for i in arr:\n",
        "        array.append(lemmatizer.lemmatize(i))\n",
        "    return ' '.join(array)\n",
        "def remove_tags(text):\n",
        "    TAG_RE = re.compile(r'<[^>]+>')\n",
        "    return TAG_RE.sub('', text)\n",
        "def remove_punctuations(text):\n",
        "    punc = '''!()-[]{};:'\"\\,<>./?’@”#$%^“&*_~'''\n",
        "    for ele in text:\n",
        "        if ele in punc:\n",
        "            text = text.replace(ele, \"\")\n",
        "    return text\n",
        "def tokenization(text):\n",
        "    return nltk.word_tokenize(text)\n",
        "def stemming(text):\n",
        "    tokens=tokenization(text)\n",
        "    arr = []\n",
        "    ps = PorterStemmer()\n",
        "    for i in tokens:\n",
        "        arr.append(ps.stem(i))\n",
        "    return ' '.join(arr)\n",
        "def remove_stop_words(text):\n",
        "    # return [word for word in tokens if word not in STOPWORDS]\n",
        "    tokens=tokenization(text)\n",
        "    arr = []\n",
        "    stop_words = set(stopwords.words('english'))\n",
        "    for i in tokens:\n",
        "        if i not in stop_words:\n",
        "            arr.append(i)\n",
        "    return ' '.join(arr)\n",
        "def frequency_distribution(text):\n",
        "    tokens = word_tokenize(text) \n",
        "    pd.Series(tokens).value_counts()[:20].plot(kind='bar')\n",
        "def word_cloud_plot(text):\n",
        "    tokens = tokenization(text)\n",
        "    wordcloud = WordCloud(width=1600, height=800, max_font_size=200, background_color=\"black\").generate(text)\n",
        "    # plt the image generated by WordCloud class\n",
        "    plt.figure(figsize=(12,10))\n",
        "    plt.imshow(wordcloud)\n",
        "    plt.axis(\"off\")\n",
        "    plt.show()\n",
        "def word_length_frequency(text):\n",
        "    token = tokenization(text)\n",
        "    dic = list(set(token))\n",
        "    length = [len(i) for i in token]\n",
        "    pd.Series(length).value_counts()[:20].plot(kind='bar')\n",
        "def frequency_distribution_of_tags(tags):\n",
        "    tags = [i[1] for i in tags]\n",
        "    count = Counter(tags)\n",
        "    x = [i for i in count]\n",
        "    y = [count[i] for i in count]\n",
        "    plt.plot(x, y)\n",
        "    plt.show()\n",
        "def pos_tagging(text):\n",
        "    tokens = tokenization(text)\n",
        "    tag = nltk.pos_tag(tokens)\n",
        "    return tag\n"
      ],
      "metadata": {
        "id": "DAd7P7ZyV-Z8"
      },
      "execution_count": 8,
      "outputs": []
    },
    {
      "cell_type": "code",
      "source": [
        " text1 = open(r\"/content/drive/MyDrive/NLP/nlpbook .txt\",encoding='utf-8').read()\n",
        "\n",
        "def preprocessing(text):\n",
        "    text=discard(text)\n",
        "    text=lower_case(text)\n",
        "    text=remove_tags(text)\n",
        "    text=lemmanization(text)\n",
        "    text=remove_punctuations(text)\n",
        "    text=stemming(text)\n",
        "    return text\n",
        "# print(text1)\n",
        "text1 = preprocessing(text1)\n",
        "text1 = remove_stop_words(text1)\n",
        "# print(text1)\n"
      ],
      "metadata": {
        "id": "2rivDO2dtBSm"
      },
      "execution_count": 17,
      "outputs": []
    },
    {
      "cell_type": "code",
      "source": [
        "def give_noun(tag):\n",
        "    is_noun = lambda pos: pos[:1] == 'N'\n",
        "    return [word for (word, pos) in tag if is_noun(pos)]\n",
        "    \n",
        "def give_verb(tag):\n",
        "    is_verb = lambda pos: pos[:1] == 'V'\n",
        "    return [word for (word, pos) in tag if is_verb(pos)]\n",
        "\n",
        "tag1 = pos_tagging(text1)\n",
        "\n",
        "noun_book_1 = give_noun(tag1)\n",
        "verb_book_1 = give_verb(tag1)\n",
        "\n",
        "print(len(noun_book_1), noun_book_1)\n",
        "print(len(verb_book_1), verb_book_1)\n"
      ],
      "metadata": {
        "id": "L1Yn_iVstDds"
      },
      "execution_count": 18,
      "outputs": []
    },
    {
      "cell_type": "code",
      "source": [
        "from nltk.corpus import wordnet as wn\n",
        "def categories_word(words):\n",
        "    categories = []\n",
        "    for i in words:\n",
        "        categorie = []\n",
        "        for syn in wn.synsets(i):\n",
        "            if ('noun' in syn.lexname()) & ('Tops' not in syn.lexname()):\n",
        "                categorie.append(syn.lexname())\n",
        "            if 'verb' in syn.lexname():\n",
        "                categorie.append(syn.lexname())\n",
        "        categories.append(categorie)\n",
        "    return categories\n",
        "\n",
        "noun_cat_1 = categories_word(noun_book_1)\n",
        "verb_cat_1 = categories_word(verb_book_1)\n",
        "print(verb_cat_1)"
      ],
      "metadata": {
        "id": "gJwfHtYp4xkK"
      },
      "execution_count": 19,
      "outputs": []
    },
    {
      "cell_type": "code",
      "source": [
        "def synset(noun, verb):\n",
        "    nouns = []\n",
        "    verbs = []\n",
        "    for word in noun:\n",
        "        for syn in wn.synsets(word):\n",
        "            if ('noun' in syn.lexname()) & ('Tops' not in syn.lexname()):\n",
        "                nouns.append(syn.lexname())\n",
        "            if 'verb' in syn.lexname():\n",
        "                verbs.append(syn.lexname())\n",
        "    for word in verb:\n",
        "        for syn in wn.synsets(word):\n",
        "            if ('noun' in syn.lexname()) & ('Tops' not in syn.lexname()):\n",
        "                nouns.append(syn.lexname())\n",
        "            if 'verb' in syn.lexname():\n",
        "                verbs.append(syn.lexname())\n",
        "\n",
        "    return nouns, verbs\n",
        "\n",
        "noun_superset1, verb_superset1 = synset(noun_book_1, verb_book_1)\n",
        "print(verb_superset1)"
      ],
      "metadata": {
        "id": "YzHDH311KTsF"
      },
      "execution_count": 21,
      "outputs": []
    },
    {
      "cell_type": "code",
      "source": [
        "import matplotlib.pyplot as plt\n",
        "import numpy as np\n",
        "labels, counts = np.unique(noun_superset1, return_counts=True)\n",
        "ticks = range(len(counts))\n",
        "plt.figure(figsize=(15, 8))\n",
        "plt.bar(ticks, counts, align='center')\n",
        "plt.xticks(ticks, range(len(counts)))\n",
        "ticks = range(len(counts))"
      ],
      "metadata": {
        "colab": {
          "base_uri": "https://localhost:8080/",
          "height": 483
        },
        "id": "CT7LCo92No5u",
        "outputId": "fc7ff35a-9542-4455-a57b-d59af42dfb3b"
      },
      "execution_count": 22,
      "outputs": [
        {
          "output_type": "display_data",
          "data": {
            "text/plain": [
              "<Figure size 1080x576 with 1 Axes>"
            ],
            "image/png": "[encoded data removed]"
          },
          "metadata": {
            "needs_background": "light"
          }
        }
      ]
    },
    {
      "cell_type": "code",
      "source": [
        "import spacy\n",
        "from spacy import displacy\n",
        "from collections import Counter\n",
        "import en_core_web_sm\n",
        "nlp = en_core_web_sm.load()\n",
        "doc1 = nlp(text1)\n",
        "print([[x, x.ent_iob_] for x in doc1])"
      ],
      "metadata": {
        "id": "DQ43wJW9QCLW"
      },
      "execution_count": 23,
      "outputs": []
    },
    {
      "cell_type": "code",
      "source": [
        "def entity_recognition(text):\n",
        "  doc=nlp(text)\n",
        "  person=[]\n",
        "  org=[]\n",
        "  location=[]\n",
        "  for X in doc:  \n",
        "    if (X.ent_type_=='PERSON') and X.text not in person:\n",
        "      person.append(X.text)\n",
        "    if (X.ent_type_=='ORG')and X.text not in org:\n",
        "      org.append(X.text)\n",
        "    if ((X.ent_type_=='LOC') or (X.ent_type_=='GPE')) and X.text not in location:\n",
        "      location.append(X.text)\n",
        "  return person,org,location\n",
        "def freq(str_list): \n",
        "    unique_words = set(str_list)\n",
        "    counts = {}\n",
        "    for words in unique_words : \n",
        "        counts[words] = str_list.count(words)\n",
        "    return counts\n",
        "person1,org1,location1=entity_recognition(text1)\n",
        "print(person1)\n",
        "print(org1)\n",
        "print(location1)    "
      ],
      "metadata": {
        "id": "h5NRMEqD4Cb7"
      },
      "execution_count": 24,
      "outputs": []
    },
    {
      "cell_type": "code",
      "source": [
        "import spacy\n",
        "from spacy import displacy\n",
        "from spacy import tokenizer\n",
        "from spacy.scorer import Scorer\n",
        "from spacy.tokens import Doc\n",
        "from spacy.training import Example\n",
        "\n",
        "#evaluation function of the given examples\n",
        "def evaluate(examples):\n",
        "    scorer = Scorer()\n",
        "    example = []\n",
        "    nlp = spacy.load('en_core_web_sm')  # for spaCy's pretrained use 'en_core_web_sm'\n",
        "    for input_, annot in examples:\n",
        "        pred = nlp.make_doc(input_)\n",
        "        temp = Example.from_dict(pred, annot)\n",
        "        example.append(temp)\n",
        "    scores = nlp.evaluate(example)\n",
        "    return scores\n",
        "\n",
        "#here we input the manually labelled data for evaluation against spaCy english NER model\n",
        "examples = [('In the early 1970s, packet-switched networks began to proliferate, with the', {'entities': [(3, 18, 'DATE')]}),('ARPAnet—the precursor of the Internet—being just one of many networks. Each of',{'entities': [(0, 7, 'ORG')]}), ('these networks had its own protocol. Two researchers, Vinton Cerf and Robert Kahn,', {'entities': [(37, 40, 'CARDINAL'), (54, 65, 'PERSON'), (70, 81, 'PERSON')]}), ('network protocol called TCP/IP, which stands for Transmission Control', {'entities': [(24, 30, 'PRODUCT'), (49, 69, 'PRODUCT')]}), ('Protocol/Internet Protocol. Although Cerf and Kahn began by seeing the protocol as', {'entities': [(0, 26, 'LAW'), (46, 50, 'PERSON')]}), ('a single entity, it was later split into its two parts, TCP and IP, which operated sepa-', {'entities': [(45, 48, 'CARDINAL'), (56, 59, 'ORG'), (64, 66, 'ORG')]}), ('rately. Cerf and Kahn published a paper on TCP/IP in May 1974 in IEEE', {'entities': [(17, 21, 'PERSON'), (43, 49, 'ORG'), (53, 61, 'DATE'), (65, 69, 'ORG')]}), ('Transactions on Communications Technology [Cerf 1974].', {'entities': [(0, 41, 'ORG'), (48, 52, 'DATE')]}), ('     The TCP/IP protocol, which is the bread and butter of today’s Internet, was devised', {'entities': [(13, 15, 'ORG'), (59, 64, 'DATE')]}), ('before PCs, workstations, smartphones, and tablets, before the proliferation of Ethernet,', {'entities': [(80, 88, 'PRODUCT')]}), ('cable, and DSL, WiFi, and other access network technologies, and before the Web,', {'entities': [(11, 14, 'PRODUCT'), (16, 20, 'PRODUCT')]}), ('social media, and streaming video. Cerf and Kahn saw the need for a networking pro-', {'entities': [(44, 48, 'PERSON')]}), ('     In 2004, Cerf and Kahn received the ACM’s Turing Award, considered the', {'entities': [(8, 12, 'DATE'),(14, 18, 'PERSON'), (23, 27, 'PERSON'), (41, 44, 'ORG'), (46, 58, 'ORG')]}), ('“Nobel Prize of Computing” for “pioneering work on internetworking, including the', {'entities': [(1, 25, 'WORK_OF_ART')]}), ('design and implementation of the Internet’s basic communications protocols, TCP/IP,', {'entities': [(76, 82, 'ORG')]})]\n",
        "\n",
        "#loading the model\n",
        "nlp = spacy.load('en_core_web_sm')\n",
        "t1 = open(\"/content/drive/MyDrive/NLP/passage1.txt\", encoding=\"utf8\").read() #read data from file\n",
        "text=\"\"\n",
        "ex = []\n",
        "for line in t1:\n",
        "    text = line\n",
        "    doc = nlp(text)\n",
        "    # ents = [(e.text, e.start_char, e.end_char, e.label_) for e in doc.ents]\n",
        "    temp = (line[:len(line)-1], {'entities':[(e.start_char, e.end_char, e.label_) for e in doc.ents]}) #extracting entites from the line\n",
        "    if len(doc.ents)>0:\n",
        "        ex.append(temp)\n",
        "\n",
        "results = evaluate(examples)    #evaluating the model\n",
        "print(ex)\n",
        "print(\"Precision {:0.4f}\\tRecall {:0.4f}\\tF-score {:0.4f}\".format(results['ents_p'], results['ents_r'], results['ents_f']))"
      ],
      "metadata": {
        "id": "uxlc6BnGKlgZ",
        "colab": {
          "base_uri": "https://localhost:8080/"
        },
        "outputId": "22ae4a47-8995-4ff2-cbea-dfebbef94f84"
      },
      "execution_count": 16,
      "outputs": [
        {
          "output_type": "stream",
          "name": "stdout",
          "text": [
            "[('', {'entities': [(0, 1, 'ORG')]}), ('', {'entities': [(0, 1, 'ORG')]}), ('', {'entities': [(0, 1, 'ORG')]}), ('', {'entities': [(0, 1, 'ORG')]}), ('', {'entities': [(0, 1, 'ORG')]}), ('', {'entities': [(0, 1, 'ORG')]}), ('', {'entities': [(0, 1, 'ORG')]}), ('', {'entities': [(0, 1, 'ORG')]}), ('', {'entities': [(0, 1, 'ORG')]}), ('', {'entities': [(0, 1, 'ORG')]}), ('', {'entities': [(0, 1, 'ORG')]}), ('', {'entities': [(0, 1, 'ORG')]}), ('', {'entities': [(0, 1, 'ORG')]}), ('', {'entities': [(0, 1, 'ORG')]}), ('', {'entities': [(0, 1, 'ORG')]}), ('', {'entities': [(0, 1, 'ORG')]})]\n",
            "Precision 0.8214\tRecall 0.7667\tF-score 0.7931\n"
          ]
        },
        {
          "output_type": "stream",
          "name": "stderr",
          "text": [
            "/usr/local/lib/python3.8/dist-packages/spacy/training/iob_utils.py:149: UserWarning: [W030] Some entities could not be aligned in the text \"     In 2004, Cerf and Kahn received the ACM’s Tur...\" with entities \"[(8, 12, 'DATE'), (14, 18, 'PERSON'), (23, 27, 'PE...\". Use `spacy.training.offsets_to_biluo_tags(nlp.make_doc(text), entities)` to check the alignment. Misaligned entities ('-') will be ignored during training.\n",
            "  warnings.warn(\n"
          ]
        }
      ]
    },
    {
      "cell_type": "code",
      "source": [
        "(from google.colab import drive\n",
        "drive.mount('/content/drive')"
      ],
      "metadata": {
        "colab": {
          "base_uri": "https://localhost:8080/"
        },
        "id": "z6AuwcT-oKAF",
        "outputId": "dba22bf0-868f-4f0a-f40a-eacd3381049f"
      },
      "execution_count": 1,
      "outputs": [
        {
          "output_type": "stream",
          "name": "stdout",
          "text": [
            "Mounted at /content/drive\n"
          ]
        }
      ]
    }
  ]
}